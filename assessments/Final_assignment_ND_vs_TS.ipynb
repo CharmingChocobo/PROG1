{
 "cells": [
  {
   "cell_type": "markdown",
   "id": "15eb6ab9",
   "metadata": {},
   "source": [
    "### Assessment criteria\n",
    "\n",
    "Conditional\n",
    "- No data and or api-key information is stored in the repository. \n",
    "- No hard datapaths are used, datapaths are provided in a configfile.\n",
    "- At least two data sets are merged into one tidy dataframe.\n",
    "\n",
    "Graded\n",
    "- (5 pt) The research question is stated. \n",
    "- (5 pt) Links to sources are provided and a small description about the data\n",
    "- (20 pt) Data qualitity and data quantity are inspected and reported. Appropiate transformations are applied.\n",
    "- (20 pt) **Assumptions and presuppositions are made explicit** (chosen data storage method, chosen analysis method, chosen design). An argumentative approach is used explaining steps, taken into account data quality and quantity. Explanation is provided either with comments in the code or in a seperate document.\n",
    "- (10 pt) Interactive visualization is extracted from correct analysis of (incomplete) data\n",
    "- (10 pt) The design supports the research question. The data is informative in relation to the topic. Visualization is functional and attractive **Figures contain X and Y labels, title and captions**. (10)\n",
    "- (20 pt) Code is efficient coded, according to coding style without code smells and easy to read. Code is demonstrated robust and flexible \n",
    "- (10 pt) All the code is stored in repository with **Readme including most relevant information to implement the code.** used software is suitably licensed and documented\n",
    "\n",
    "- **Comment what you can expect, and comment the results**\n",
    "- **If you use code snippets from others you should refer to the original author, otherwise you will be accused of plagiarism. Please be prepared to explain your code in a verbal exam.**"
   ]
  },
  {
   "cell_type": "markdown",
   "id": "ffaafcb9",
   "metadata": {},
   "source": [
    "### Instructions:\n",
    "\n",
    "- Define a research question, select data and code your data acquisition, data processing, data analysis and visualization. \n",
    "- Use a repository with a commit strategy and write a readme file. \n",
    "- Make sure that you document your choices. "
   ]
  },
  {
   "cell_type": "markdown",
   "id": "c75e9f1e",
   "metadata": {},
   "source": [
    "### Research question\n"
   ]
  },
  {
   "cell_type": "markdown",
   "id": "a1d28c9d",
   "metadata": {},
   "source": [
    "Aim;\n",
    "\n",
    "#### Data description\n",
    "- Links to data\n",
    "- Description"
   ]
  },
  {
   "cell_type": "markdown",
   "id": "b2f657fb",
   "metadata": {},
   "source": [
    "### Data selection"
   ]
  },
  {
   "cell_type": "code",
   "execution_count": null,
   "id": "07215f60",
   "metadata": {},
   "outputs": [],
   "source": []
  },
  {
   "cell_type": "markdown",
   "id": "298087ca",
   "metadata": {},
   "source": [
    "### Data wrangling"
   ]
  },
  {
   "cell_type": "code",
   "execution_count": null,
   "id": "d9f86695",
   "metadata": {},
   "outputs": [],
   "source": [
    "# dtype\n",
    "# quality inspected and reported.\n",
    "# missing values\n",
    "# outliers (PLOT?)"
   ]
  },
  {
   "cell_type": "markdown",
   "id": "d77262fa",
   "metadata": {},
   "source": [
    "### Data exploration"
   ]
  },
  {
   "cell_type": "code",
   "execution_count": null,
   "id": "c13f481b",
   "metadata": {},
   "outputs": [],
   "source": [
    "# quantity inspected and reported.\n",
    "# distribution (PLOT)\n",
    "# test significance\n"
   ]
  },
  {
   "cell_type": "markdown",
   "id": "519b8bb0",
   "metadata": {},
   "source": [
    "### Data visualization"
   ]
  },
  {
   "cell_type": "code",
   "execution_count": null,
   "id": "8f486b5a",
   "metadata": {},
   "outputs": [],
   "source": [
    "# interactive visualisation"
   ]
  },
  {
   "cell_type": "code",
   "execution_count": null,
   "id": "7272bebd",
   "metadata": {},
   "outputs": [],
   "source": []
  },
  {
   "cell_type": "code",
   "execution_count": null,
   "id": "d5267afb",
   "metadata": {},
   "outputs": [],
   "source": []
  },
  {
   "cell_type": "code",
   "execution_count": null,
   "id": "9400f6a6",
   "metadata": {},
   "outputs": [],
   "source": []
  }
 ],
 "metadata": {
  "kernelspec": {
   "display_name": "Python 3 (ipykernel)",
   "language": "python",
   "name": "python3"
  },
  "language_info": {
   "codemirror_mode": {
    "name": "ipython",
    "version": 3
   },
   "file_extension": ".py",
   "mimetype": "text/x-python",
   "name": "python",
   "nbconvert_exporter": "python",
   "pygments_lexer": "ipython3",
   "version": "3.10.8"
  }
 },
 "nbformat": 4,
 "nbformat_minor": 5
}
